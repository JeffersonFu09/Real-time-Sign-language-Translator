{
 "cells": [
  {
   "cell_type": "code",
   "execution_count": 11,
   "id": "ada4fa82",
   "metadata": {},
   "outputs": [],
   "source": [
    "import cv2 \n",
    "import os\n",
    "import time\n",
    "import uuid"
   ]
  },
  {
   "cell_type": "code",
   "execution_count": 12,
   "id": "a89807e7",
   "metadata": {},
   "outputs": [],
   "source": [
    "ImgPath='TensorFlow/workspace/images/collectedimages'"
   ]
  },
  {
   "cell_type": "code",
   "execution_count": 13,
   "id": "d66088ff",
   "metadata": {},
   "outputs": [],
   "source": [
    "labels = ['A','B','C','D','E','F','G','H','I','J','K','L','M','N','O','P','Q','R','S','T','U','V','W','X','Y','Z']\n",
    "imgnum= 20"
   ]
  },
  {
   "cell_type": "code",
   "execution_count": 14,
   "id": "dca76732",
   "metadata": {},
   "outputs": [
    {
     "name": "stdout",
     "output_type": "stream",
     "text": [
      "The letter is A\n",
      "The letter is B\n",
      "The letter is C\n",
      "The letter is D\n",
      "The letter is E\n",
      "The letter is F\n",
      "The letter is G\n",
      "The letter is H\n",
      "The letter is I\n",
      "The letter is J\n",
      "The letter is K\n",
      "The letter is L\n",
      "The letter is M\n",
      "The letter is N\n",
      "The letter is O\n",
      "The letter is P\n",
      "The letter is Q\n",
      "The letter is R\n",
      "The letter is S\n",
      "The letter is T\n",
      "The letter is U\n",
      "The letter is V\n",
      "The letter is W\n",
      "The letter is X\n",
      "The letter is Y\n",
      "The letter is Z\n"
     ]
    }
   ],
   "source": [
    "for label in labels:\n",
    "    !mkdir {'Tensorflow\\workspace\\images\\collectedimages\\\\' +label}\n",
    "    cap = cv2.VideoCapture(0)\n",
    "    print('The letter is {}'.format(label))\n",
    "    time.sleep(5)\n",
    "    for i in range(imgnum):\n",
    "        ret, frame = cap.read()\n",
    "        name = os.path.join(ImgPath, label, label+'.'+'{}.jpg'.format(str(uuid.uuid1())))\n",
    "        cv2.imwrite(name, frame)\n",
    "        cv2.imshow('frame', frame)\n",
    "        time.sleep(1)\n",
    "        \n",
    "        if cv2.waitKey(1) & 0xFF == ord('q'):\n",
    "            break\n",
    "    cap.release()"
   ]
  },
  {
   "cell_type": "code",
   "execution_count": null,
   "id": "a78341d0",
   "metadata": {},
   "outputs": [],
   "source": []
  }
 ],
 "metadata": {
  "kernelspec": {
   "display_name": "Python 3 (ipykernel)",
   "language": "python",
   "name": "python3"
  },
  "language_info": {
   "codemirror_mode": {
    "name": "ipython",
    "version": 3
   },
   "file_extension": ".py",
   "mimetype": "text/x-python",
   "name": "python",
   "nbconvert_exporter": "python",
   "pygments_lexer": "ipython3",
   "version": "3.9.7"
  }
 },
 "nbformat": 4,
 "nbformat_minor": 5
}
